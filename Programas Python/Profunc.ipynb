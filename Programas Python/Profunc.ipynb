{
 "cells": [
  {
   "cell_type": "code",
   "execution_count": 2,
   "metadata": {},
   "outputs": [
    {
     "data": {
      "image/png": "[encoded data removed]",
      "text/plain": [
       "<Figure size 432x288 with 1 Axes>"
      ]
     },
     "metadata": {},
     "output_type": "display_data"
    },
    {
     "name": "stdout",
     "output_type": "stream",
     "text": [
      "Esto tardó 0.9960572719573975 segundos\n"
     ]
    }
   ],
   "source": [
    "import matplotlib.pyplot as plt\n",
    "from scipy.optimize import minimize\n",
    "from mpl_toolkits.mplot3d import Axes3D\n",
    "import numpy as np\n",
    "import random\n",
    "import time\n",
    "import pandas as pd\n",
    "import math\n",
    "import csv\n",
    "import os\n",
    "\n",
    "t0=time.time()\n",
    "###########################################################\n",
    "###########################################################\n",
    "# Acordate que en casa los ldata tienen que empezar con Tests/\n",
    "# En la facultad va directo el nombre del archivo\n",
    "############################################################\n",
    "############################################################\n",
    "\n",
    "def scan(cant,lista):\n",
    "    i=0\n",
    "    for x in lista:\n",
    "        print(x)\n",
    "        i+=1\n",
    "        if i>cant:\n",
    "            break\n",
    "            \n",
    "def Tiempo():\n",
    "    t1=time.time()\n",
    "    print(\"Esto tardó {} segundos\".format(t1-t0))\n",
    "\n",
    "\n",
    "def ldata(archive):\n",
    "        f = open(archive)\n",
    "        data = []\n",
    "        for line in f:\n",
    "            col = line.split(\"\\t\")\n",
    "            col = [x.strip() for x in col]\n",
    "            data.append(col)\n",
    "        return data \n",
    "    \n",
    "# Vamos a leer los archivos con esta celda\n",
    "#--------------------------------------------------------------------------\n",
    "\n",
    "CarpCheck=[[root,files] for root,dirs,files in os.walk(\".\")]\n",
    "\n",
    "# Los primero dos elementos de CarpCheck no les des bola, porque son\n",
    "# la mismísma carpeta en la que estás y porque el segundo es ipynb checkpoints\n",
    "# Eso es algo del notebook, no del TP.\n",
    "\n",
    "Puntos = []\n",
    "\n",
    "for x in CarpCheck:\n",
    "    # dada = x[0].split(\"\\\\\")\n",
    "    Puntos.append(x[0])\n",
    "\n",
    "# Con esto tengo los nombres de todas las carpetas que estoy usando\n",
    "# Fijate que si cambias las carpetas esto cambia\n",
    "\n",
    "# CarpCheck=[[root,files] for root,dirs,files in os.walk(Puntos[2])]\n",
    "# Labarcm1 = CarpCheck[0][1]\n",
    "\n",
    "# Con esto tengo los nombres de todos los archivos en todas las carpetas\n",
    "\n",
    "#-------------------------------------------------------------------------\n",
    "\n",
    "Datos = ldata(\"Red_prueba.txt\")\n",
    "Datos = [int(x) for x in Datos[0][0:len(Datos[0])-1]]\n",
    "\n",
    "X = []\n",
    "Y = []\n",
    "\n",
    "for i in range(max(Datos)+1):\n",
    "    X.append(i)\n",
    "    Y.append(Datos.count(i))\n",
    "    \n",
    "plt.plot(X,Y,\"go--\")\n",
    "plt.grid()\n",
    "plt.show()\n",
    "\n",
    "Tiempo()"
   ]
  },
  {
   "cell_type": "code",
   "execution_count": 32,
   "metadata": {},
   "outputs": [
    {
     "name": "stdout",
     "output_type": "stream",
     "text": [
      "Esto tardó 0.004000186920166016 segundos\n"
     ]
    }
   ],
   "source": []
  }
 ],
 "metadata": {
  "kernelspec": {
   "display_name": "Python 3",
   "language": "python",
   "name": "python3"
  },
  "language_info": {
   "codemirror_mode": {
    "name": "ipython",
    "version": 3
   },
   "file_extension": ".py",
   "mimetype": "text/x-python",
   "name": "python",
   "nbconvert_exporter": "python",
   "pygments_lexer": "ipython3",
   "version": "3.6.6"
  }
 },
 "nbformat": 4,
 "nbformat_minor": 2
}

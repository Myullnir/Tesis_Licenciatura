{
 "cells": [
  {
   "cell_type": "code",
   "execution_count": 4,
   "metadata": {},
   "outputs": [
    {
     "name": "stdout",
     "output_type": "stream",
     "text": [
      "Esto tardó 0.0010025501251220703 segundos\n"
     ]
    }
   ],
   "source": [
    "import matplotlib.pyplot as plt\n",
    "from scipy.optimize import minimize\n",
    "from mpl_toolkits.mplot3d import Axes3D\n",
    "import numpy as np\n",
    "import random\n",
    "import time\n",
    "import pandas as pd\n",
    "import math\n",
    "import csv\n",
    "import os\n",
    "\n",
    "t0=time.time()\n",
    "###########################################################\n",
    "###########################################################\n",
    "# Acordate que en casa los ldata tienen que empezar con Tests/\n",
    "# En la facultad va directo el nombre del archivo\n",
    "############################################################\n",
    "############################################################\n",
    "\n",
    "def scan(cant,lista):\n",
    "    i=0\n",
    "    for x in lista:\n",
    "        print(x)\n",
    "        i+=1\n",
    "        if i>cant:\n",
    "            break\n",
    "            \n",
    "def Tiempo():\n",
    "    t1=time.time()\n",
    "    print(\"Esto tardó {} segundos\".format(t1-t0))\n",
    "\n",
    "\n",
    "def ldata(archive):\n",
    "        f = open(archive)\n",
    "        data = []\n",
    "        for line in f:\n",
    "            col = line.split(\"\\t\")\n",
    "            col = [x.strip() for x in col]\n",
    "            data.append(col)\n",
    "        return data \n",
    "    \n",
    "# Vamos a leer los archivos con esta celda. Al darle la dirección de la carpeta Datos, lo que estoy sacando\n",
    "# son los nombres de todos los archivos en esa carpeta.\n",
    "#--------------------------------------------------------------------------\n",
    "\n",
    "CarpCheck=[[root,files] for root,dirs,files in os.walk(\"./Datos\")]\n",
    "\n",
    "##############################################################################\n",
    "# Los primero dos elementos de CarpCheck no les des bola, porque son\n",
    "# la mismísma carpeta en la que estás y porque el segundo es ipynb checkpoints\n",
    "# Eso es algo del notebook, no del TP.\n",
    "##############################################################################\n",
    "\n",
    "# El comentario anterior era considerando que no le daba la dirección correcta\n",
    "# de la carpeta con mi información al os.walk. Esta vez le estoy pasando la \n",
    "# dirección exacta, así que no es necesario hacer tanto quilombo para separar\n",
    "# los nombres de los archivos. El elemento en la posición x[1] es el nombre de la carpeta\n",
    "\n",
    "\n",
    "for x in CarpCheck:\n",
    "    # dada = x[0].split(\"\\\\\")\n",
    "    Archivos_Datos = [nombre for nombre in x[1]]\n",
    "    Archivos_Datos.insert(0,x[0])\n",
    "\n",
    "# Con esto tengo los nombres de todos los archivos en la carpeta de Datos\n",
    "# Archivos_Datos tiene en la primer coordenada el principio de la dirección\n",
    "# de la carpeta, y el resto de elementos son los archivos en la carpeta.\n",
    "# Entonces si quiero buscar el objeto voy a tener que usar:\n",
    "# Archivos_Datos[0]/Archivos_Datos[1]\n",
    "\n",
    "#----------------------------------------------------------------------------\n",
    "\n",
    "# Leo mi archivo\n",
    "\n",
    "# Datos = ldata(\"{}/{}\".format(Archivos_Datos[0],Archivos_Datos[1]))\n",
    "\n",
    "# # Levanto los valores de N y T del nombre de mi archivo. Es importante recordar que mis\n",
    "# # archivos tienen nombres de la forma: Datos_Evolucion_Opinion_N=$_T=$_K=$\n",
    "\n",
    "# N = int(Archivos_Datos[1].split(\"_\")[3].split(\"=\")[1])\n",
    "# T = int(Archivos_Datos[1].split(\"_\")[4].split(\"=\")[1])\n",
    "# K = float(Archivos_Datos[1].split(\"_\")[5].split(\"=\")[1])\n",
    "\n",
    "# # Hagamos un gráfico de estos datos. Por lo menos del caso K=0\n",
    "# # Quiero hacer un gráfico en el que se vea que las opiniones van cayendo a cero.\n",
    "# # La idea es hacer una sumatoria del valor cuadrado de las opiniones de cada uno.\n",
    "\n",
    "# # Primero me armo una lista que tenga todos los valores que están en Datos sin ese\n",
    "# # espacio que está en la primer coordenada. También estaría bueno pasar los strings\n",
    "# # a floats.\n",
    "\n",
    "# Opiniones = []\n",
    "# for fila in Datos[5:len(Datos)]:\n",
    "#     # Arranco desde 5 porque las primeras son títulos y las matrices de Adyacencia y Superposicion\n",
    "#     fila2 = [float(x) for x in fila[1:len(fila)]]\n",
    "#     Opiniones.append(fila2)\n",
    "#     # Debería haber una forma más compacta de hacer esto. Quizás podría hacer una función de esto.\n",
    "#     # La otra es meter un espacio en los títulos también, para al levantar datos eliminar\n",
    "#     # eso de una también. Y luego el mismo Datos que tenga todos los números y listo.\n",
    "\n",
    "# # Me armo los vectores X e Y que voy a graficar\n",
    "# X = np.arange(0,len(Opiniones))\n",
    "# Y1 = []\n",
    "# Y2 = []\n",
    "# for i in range(len(Opiniones)):\n",
    "#     # Obtengo los valores cuadrados de todos los tópicos\n",
    "#     T0 = [t**2 for t in Opiniones[i][0:len(Opiniones[i]):T]]\n",
    "#     T1 = [t**2 for t in Opiniones[i][1:len(Opiniones[i]):T]]\n",
    "#     # Ahora los sumo y los agrego a mis vectores Y\n",
    "#     Y1.append(np.sum(T0)/len(T0))\n",
    "#     Y2.append(np.sum(T1)/len(T1))\n",
    "\n",
    "    \n",
    "# plt.figure(figsize=(15,6))\n",
    "# plt.plot(X,Y1, \"--b\",label=\"Topico 1\" ,linewidth = 3)\n",
    "# plt.plot(X,Y2, \"--r\",label=\"Topico 2\" ,linewidth = 3)\n",
    "# plt.rcParams.update({'font.size': 18})\n",
    "# plt.xlabel(\"Iteraciones\")\n",
    "# plt.ylabel(\"Promedio de Opiniones Cuadradas\")\n",
    "# plt.title(\"Evolución de las opiniones\")\n",
    "# plt.legend()\n",
    "# plt.grid()\n",
    "# plt.show()\n",
    "\n",
    "\n",
    "\n",
    "\n",
    "\n",
    "Tiempo()"
   ]
  },
  {
   "cell_type": "code",
   "execution_count": 6,
   "metadata": {},
   "outputs": [
    {
     "data": {
      "image/png": "[encoded data removed]",
      "text/plain": [
       "<Figure size 432x288 with 1 Axes>"
      ]
     },
     "metadata": {},
     "output_type": "display_data"
    },
    {
     "data": {
      "image/png": "[encoded data removed]",
      "text/plain": [
       "<Figure size 432x288 with 1 Axes>"
      ]
     },
     "metadata": {},
     "output_type": "display_data"
    },
    {
     "data": {
      "text/plain": [
       "<Figure size 432x288 with 0 Axes>"
      ]
     },
     "metadata": {},
     "output_type": "display_data"
    }
   ],
   "source": [
    "A = [1,2,3,4,5,6,7]\n",
    "B = [1,1,2,2,3,3,4]\n",
    "C = [1,2,3,4,5,6,7]\n",
    "\n",
    "plt.plot(A,C)\n",
    "plt.show()\n",
    "\n",
    "plt.plot(B,C)\n",
    "plt.savefig(\"prueba.png\")\n",
    "plt.show()"
   ]
  }
 ],
 "metadata": {
  "kernelspec": {
   "display_name": "Python 3",
   "language": "python",
   "name": "python3"
  },
  "language_info": {
   "codemirror_mode": {
    "name": "ipython",
    "version": 3
   },
   "file_extension": ".py",
   "mimetype": "text/x-python",
   "name": "python",
   "nbconvert_exporter": "python",
   "pygments_lexer": "ipython3",
   "version": "3.6.6"
  }
 },
 "nbformat": 4,
 "nbformat_minor": 2
}
